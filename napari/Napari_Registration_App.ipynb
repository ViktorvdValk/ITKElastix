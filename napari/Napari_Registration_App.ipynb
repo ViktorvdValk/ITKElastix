{
 "cells": [
  {
   "cell_type": "markdown",
   "metadata": {},
   "source": [
    "### Napari Viewer \n",
    "Napari can be used as a GUI for registration with elastix.\n",
    "This can only be run locally, since napari opens an external window."
   ]
  },
  {
   "cell_type": "code",
   "execution_count": 1,
   "metadata": {},
   "outputs": [],
   "source": [
    "import enum\n",
    "import napari\n",
    "from napari.layers import Image\n",
    "from magicgui import magicgui\n",
    "from qtpy.QtGui import QFont\n",
    "from itk import itkElastixRegistrationMethodPython\n",
    "import itk\n",
    "from itkwidgets import compare, checkerboard\n",
    "import numpy as np\n",
    "import imageio"
   ]
  },
  {
   "cell_type": "code",
   "execution_count": 2,
   "metadata": {},
   "outputs": [],
   "source": [
    "# Load images with itk floats (itk.F). Necessary for elastix\n",
    "fixed_image = itk.imread('../examples/data/CT_2D_head_fixed.mha', itk.F)\n",
    "moving_image = itk.imread('../examples/data/CT_2D_head_moving.mha', itk.F)\n",
    "\n",
    "# Cast images to numpy arrays for Napari Viewer\n",
    "fixed_image_np = np.asarray(fixed_image).astype(np.float32)\n",
    "moving_image_np = np.asarray(moving_image).astype(np.float32)"
   ]
  },
  {
   "cell_type": "code",
   "execution_count": 3,
   "metadata": {},
   "outputs": [],
   "source": [
    "# Create parameterObject function\n",
    "def parameterObject(transform, resolution, optimizer, imageSampler):\n",
    "    \n",
    "    parameter_object = itk.ParameterObject.New()\n",
    "    default_rigid_parameter_map = parameter_object.GetDefaultParameterMap(transform, resolution)\n",
    "    default_rigid_parameter_map['Optimizer'] = [optimizer]\n",
    "    default_rigid_parameter_map['ImageSampler'] = [imageSampler]\n",
    "    parameter_object.AddParameterMap(default_rigid_parameter_map)\n",
    "    \n",
    "    return parameter_object"
   ]
  },
  {
   "cell_type": "code",
   "execution_count": 4,
   "metadata": {},
   "outputs": [
    {
     "name": "stderr",
     "output_type": "stream",
     "text": [
      "WARNING: DirectWrite: CreateFontFaceFromHDC() failed (Indicates an error in an input file such as a font file.) for QFontDef(Family=\"\", pointsize=12, pixelsize=16, styleHint=5, weight=50, stretch=100, hintingPreference=0) LOGFONT(\"MS Sans Serif\", lfWidth=0, lfHeight=-16) dpi=192\n"
     ]
    }
   ],
   "source": [
    "# Create Napari Gui plugin\n",
    "with napari.gui_qt():\n",
    "    viewer = napari.Viewer()\n",
    "    viewer.add_image(fixed_image_np, name=f\"Fixed\")\n",
    "    viewer.add_image(moving_image_np, name=f\"Moving\")\n",
    "\n",
    "    @magicgui(call_button=\"register\", \n",
    "              transform = {\"choices\": [\"rigid\", \"affine\", \"bspline\"]},\n",
    "              resolutions = {\"resolutions\": int, \"minimum\":1, \"maximum\":10},\n",
    "              optimizer = {\"choices\":[\"AdaptiveStochasticGradientDescent\",\"ConjugateGradient\",\"FiniteDifferenceGradientDescent\",\"Powell\",\"PreconditionedStochasticGradientDescent\",\"QuasiNewtonLBFGS\",\"RegularStepGradientDescent\", \"StandardGradientDescent\"]},\n",
    "              imageSampler = {\"choices\":[\"Full\", \"Grid\", \"RandomCoordinate\", \"RandomSparseMask\", \"Random\"]})\n",
    "    def registration(transform= \"rigid\", resolution = 2, optimizer = \"AdaptiveStochasticGradientDescent\", imageSampler=\"Random\") -> Image:\n",
    "        \n",
    "        parameter_object = parameterObject(transform, resolution, optimizer, imageSampler)\n",
    "        result_image, result_transform_parameters = itk.elastix_registration_method(\n",
    "            fixed_image_np, moving_image_np,\n",
    "            parameter_object=parameter_object,\n",
    "            log_to_console=True)\n",
    "        result_image_np = np.asarray(result_image).astype(np.float32)\n",
    "        \n",
    "        viewer.add_image(result_image_np, name=f\"Result_\"+transform+\"_\"+imageSampler)\n",
    "        return result_image_np\n",
    "        \n",
    "    gui = registration.Gui()\n",
    "    gui.setFont(QFont('Arial',15))\n",
    "    viewer.window.add_dock_widget(gui)\n",
    "    viewer.layers.events.changed.connect(lambda x: gui.refresh_choices())"
   ]
  }
 ],
 "metadata": {
  "kernelspec": {
   "display_name": "ElastixEnv",
   "language": "python",
   "name": "elastixenv"
  },
  "language_info": {
   "codemirror_mode": {
    "name": "ipython",
    "version": 3
   },
   "file_extension": ".py",
   "mimetype": "text/x-python",
   "name": "python",
   "nbconvert_exporter": "python",
   "pygments_lexer": "ipython3",
   "version": "3.8.5"
  }
 },
 "nbformat": 4,
 "nbformat_minor": 4
}
