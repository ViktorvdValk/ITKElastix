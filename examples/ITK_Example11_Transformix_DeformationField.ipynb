{
 "cells": [
  {
   "cell_type": "markdown",
   "metadata": {},
   "source": [
    "## 11. Transformix: Deformation Field and it's inverse"
   ]
  },
  {
   "cell_type": "markdown",
   "metadata": {},
   "source": [
    "With the transformix algorithm the deformation field of the transformation, including it's inverse can be calculated.\n",
    "The deformation field is a vector image where each voxel contains the displacement vector in physical coordinates."
   ]
  },
  {
   "cell_type": "markdown",
   "metadata": {},
   "source": [
    "### Elastix"
   ]
  },
  {
   "cell_type": "code",
   "execution_count": 1,
   "metadata": {},
   "outputs": [],
   "source": [
    "# First two import are currently necessary to run ITKElastix on MacOs\n",
    "from itk import itkElastixRegistrationMethodPython\n",
    "from itk import itkTransformixFilterPython\n",
    "import itk"
   ]
  },
  {
   "cell_type": "code",
   "execution_count": 2,
   "metadata": {},
   "outputs": [],
   "source": [
    "# Import Images\n",
    "fixed_image = itk.imread('data/CT_2D_head_fixed.mha', itk.F)\n",
    "moving_image = itk.imread('data/CT_2D_head_moving.mha', itk.F)\n",
    "\n",
    "# Import Default Parameter Map\n",
    "parameter_object = itk.ParameterObject.New()\n",
    "parameter_map_rigid = parameter_object.GetDefaultParameterMap('rigid')\n",
    "parameter_map_bspline = parameter_object.GetDefaultParameterMap('bspline')\n",
    "\n",
    "parameter_object.AddParameterMap(parameter_map_rigid)\n",
    "parameter_object.AddParameterMap(parameter_map_bspline)"
   ]
  },
  {
   "cell_type": "markdown",
   "metadata": {},
   "source": [
    "Registration with the registration function.\n",
    "The output directory has to be specified, \n",
    "otherwise elastix will not save the transformparameter file as .txt file."
   ]
  },
  {
   "cell_type": "code",
   "execution_count": 3,
   "metadata": {},
   "outputs": [],
   "source": [
    "# Call registration function and specify output directory\n",
    "result_image, result_transform_parameters = itk.elastix_registration_method(\n",
    "    fixed_image, moving_image,\n",
    "    parameter_object=parameter_object,\n",
    "    output_directory='exampleoutput/')"
   ]
  },
  {
   "cell_type": "markdown",
   "metadata": {},
   "source": [
    "### Transformix Deformation Field calculation"
   ]
  },
  {
   "cell_type": "code",
   "execution_count": 4,
   "metadata": {},
   "outputs": [],
   "source": [
    "# Import Image to transform, transformix is transforming from moving -> fixed;\n",
    "# for this example the exact same moving image is used, this however is normally not \n",
    "# very usefull since the elastix algorithm already transformed this image.\n",
    "moving_image_transformix = itk.imread('data/CT_2D_head_moving.mha', itk.F)"
   ]
  },
  {
   "cell_type": "markdown",
   "metadata": {},
   "source": [
    "The deformation field can either be calculation in one line..."
   ]
  },
  {
   "cell_type": "code",
   "execution_count": 5,
   "metadata": {},
   "outputs": [],
   "source": [
    "deformation_field = itk.transformix_deformation_field(moving_image_transformix, result_transform_parameters)"
   ]
  },
  {
   "cell_type": "markdown",
   "metadata": {},
   "source": [
    ".. or by initiating an transformix image filter object."
   ]
  },
  {
   "cell_type": "code",
   "execution_count": 6,
   "metadata": {},
   "outputs": [],
   "source": [
    "# Load Transformix Object\n",
    "transformix_object = itk.TransformixFilter.New(moving_image_transformix)\n",
    "transformix_object.SetTransformParameterObject(result_transform_parameters)\n",
    "\n",
    "# Set advanced options\n",
    "transformix_object.SetComputeDeformationField(True)\n",
    "\n",
    "# Set output directory for spatial jacobian and its determinant,\n",
    "# default directory is current directory.\n",
    "transformix_object.SetOutputDirectory('exampleoutput/')\n",
    "\n",
    "# Update object (required)\n",
    "transformix_object.UpdateLargestPossibleRegion()\n",
    "\n",
    "# Results of Transformation\n",
    "result_image_transformix = transformix_object.GetOutput()\n",
    "deformation_field = transformix_object.GetOutputDeformationField()"
   ]
  },
  {
   "cell_type": "markdown",
   "metadata": {},
   "source": [
    "## Deformation Field Inversion"
   ]
  },
  {
   "cell_type": "markdown",
   "metadata": {},
   "source": [
    "The DisplacementMagnitudePenalty is a cost function that penalises ||Tµ(x) − x||2. You can use this\n",
    "to invert transforms, by setting the transform to be inverted as an initial transform (using -t0), setting\n",
    "(HowToCombineTransforms \"Compose\"), and running elastix with this metric, using the original fixed\n",
    "image set both as fixed (-f) and moving (-m) image. After that you can manually set the initial transform\n",
    "in the last parameter file to \"NoInitialTransform\", and voila, you have the inverse transform! Strictly\n",
    "speaking, you should then also change the Size/Spacing/Origin/Index/Direction settings to match that of\n",
    "the moving image.\n",
    "Note that inverting a transformation becomes conceptually very similar to performing an image registration\n",
    "in this way. Consequently, the same choices are relevant: optimisation algorithm, multiresolution etc...\n",
    "With Transformix the inverted transform can then be used to calculate the inversion of the deformation field, just like Transformix normally calculates the deformation field from a transform."
   ]
  },
  {
   "cell_type": "code",
   "execution_count": 7,
   "metadata": {},
   "outputs": [],
   "source": [
    "# Import Default Parameter Map and adjust parameters\n",
    "parameter_object = itk.ParameterObject.New()\n",
    "# parameter_map_rigid = parameter_object.GetDefaultParameterMap('rigid')\n",
    "# parameter_map_bspline = parameter_object.GetDefaultParameterMap('rigid')\n",
    "parameter_map_bspline['HowToCombineTransforms'] = ['Compose']\n",
    "parameter_map_rigid['HowToCombineTransforms'] = ['Compose']\n",
    "parameter_object.AddParameterMap(parameter_map_rigid)\n",
    "parameter_object.AddParameterMap(parameter_map_bspline)\n",
    "\n",
    "# Call registration function with transform parameters of normal elastix run as initial transform\n",
    "# on fixed image to fixed image registration. In ITKElastix there is not option to pass the result_transform_parameters\n",
    "# as a python object yet, the initial transform can only be passed as a .txt file to initial_transform_parameter_file_name.\n",
    "# Elastix also writes the transformparameter file to a .txt file if an output directory is specified.\n",
    "# Make sure to give the correct TransformParameterFile.txt to elastix if multiple parameter maps are used.\n",
    "inverse_image, inverse_transform_parameters = itk.elastix_registration_method(\n",
    "    fixed_image, fixed_image,\n",
    "    parameter_object=parameter_object,\n",
    "    initial_transform_parameter_file_name='exampleoutput/TransformParameters.1.txt')\n",
    "\n",
    "# Adjust inverse transform parameters object\n",
    "inverse_transform_parameters.SetParameter(\n",
    "    0, \"InitialTransformParametersFileName\", \"NoInitialTransform\")"
   ]
  },
  {
   "cell_type": "code",
   "execution_count": 8,
   "metadata": {},
   "outputs": [],
   "source": [
    "# Use inverse transform parameters to calculate inverse deformation field\n",
    "# Setting the original fixed image for inverse transformation should give the moving image as result\n",
    "# but since we're focussed on obtaining the inverse deformation field, setting this image is trivial.\n",
    "inverse_deformation_field = itk.transformix_deformation_field(fixed_image, inverse_transform_parameters)"
   ]
  },
  {
   "cell_type": "markdown",
   "metadata": {},
   "source": [
    "### Visualization of the deformation field and its inverse."
   ]
  },
  {
   "cell_type": "code",
   "execution_count": 9,
   "metadata": {},
   "outputs": [],
   "source": [
    "import matplotlib.pyplot as plt\n",
    "import numpy as np"
   ]
  },
  {
   "cell_type": "code",
   "execution_count": 10,
   "metadata": {},
   "outputs": [],
   "source": [
    "# %matplotlib inline\n",
    "\n",
    "# deformation_field = np.asarray(deformation_field).astype(np.float32)\n",
    "# inverse_deformation_field = np.asarray(inverse_deformation_field).astype(np.float32)\n",
    "\n",
    "# # Plot images\n",
    "# fig, axs = plt.subplots(2,2, sharey=True, figsize=[30,30])\n",
    "# plt.figsize=[100,100]\n",
    "# axs[0,0].imshow(deformation_field[:,:,1])\n",
    "# axs[0,0].set_title('Deformation Field X', fontsize=30)\n",
    "# axs[0,1].imshow(deformation_field[:,:,0])\n",
    "# axs[0,1].set_title('Deformation Field Y', fontsize=30)\n",
    "# axs[1,0].imshow(inverse_deformation_field[:,:,1])\n",
    "# axs[1,0].set_title('Inverse Deformation Field X', fontsize=30)\n",
    "# axs[1,1].imshow(inverse_deformation_field[:,:,0])\n",
    "# axs[1,1].set_title('Inverse Deformation Field, Y', fontsize=30)\n",
    "# plt.show()"
   ]
  }
 ],
 "metadata": {
  "kernelspec": {
   "display_name": "ElastixEnv2",
   "language": "python",
   "name": "elastixenv2"
  },
  "language_info": {
   "codemirror_mode": {
    "name": "ipython",
    "version": 3
   },
   "file_extension": ".py",
   "mimetype": "text/x-python",
   "name": "python",
   "nbconvert_exporter": "python",
   "pygments_lexer": "ipython3",
   "version": "3.7.9"
  }
 },
 "nbformat": 4,
 "nbformat_minor": 4
}
