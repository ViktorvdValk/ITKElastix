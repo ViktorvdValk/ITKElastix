{
 "cells": [
  {
   "cell_type": "markdown",
   "metadata": {},
   "source": [
    "## 5. Point Registration"
   ]
  },
  {
   "cell_type": "markdown",
   "metadata": {},
   "source": [
    "Point-based registration allows us to help the registration via pre-defined sets of corresponding points. The 'CorrespondingPointsEuclideanDistanceMetric' minimises the distance of between a points on the fixed image and corresponding points on the moving image. The metric can be used to help in a difficult registration task by taking into account positions are known to correspond. Think of it as a way of embedding expert knowledge in the registration procedure. We can manually or automatically select points via centroids of segmentations for example. Anything is possible.\n",
    "Point sets should always be given to elastix with their corresponding image."
   ]
  },
  {
   "cell_type": "markdown",
   "metadata": {},
   "source": [
    "### Registration"
   ]
  },
  {
   "cell_type": "code",
   "execution_count": 20,
   "metadata": {},
   "outputs": [],
   "source": [
    "# First import is currently necessary to run ITKElastix on MacOs\n",
    "from itk import itkElastixRegistrationMethodPython\n",
    "import itk\n",
    "import numpy as np\n",
    "from itkwidgets import compare, checkerboard, view"
   ]
  },
  {
   "cell_type": "markdown",
   "metadata": {},
   "source": [
    "In order for 3D registration to work with a point set, the 'CorrespondingPointsEuclideanDistanceMetric', should be set as metric. For the 3D case, this means that the metric should be a multimetric with the first metric of type AdvancedImageToImageMetric and the second the 'CorrespondingPointsEuclideanDistanceMetric'. The Registration parameter should therefore be set to 'MultiMetricMultiResolutionRegistration', to allow a multimetric parameter."
   ]
  },
  {
   "cell_type": "code",
   "execution_count": 21,
   "metadata": {},
   "outputs": [],
   "source": [
    "# Import Images\n",
    "fixed_image = itk.imread('data/CT_3D_lung_fixed.mha', itk.F)\n",
    "moving_image = itk.imread('data/CT_3D_lung_moving.mha', itk.F)\n",
    "\n",
    "fixed_point_set = np.loadtxt('data/CT_3D_lung_fixed_point_set_corrected.txt', skiprows=2, delimiter=' ')\n",
    "moving_point_set = np.loadtxt('data/CT_3D_lung_moving_point_set_corrected.txt', skiprows=2, delimiter=' ')\n",
    "\n",
    "# Import and adjust Parameter Map\n",
    "parameter_object = itk.ParameterObject.New()\n",
    "parameter_map_rigid = parameter_object.GetDefaultParameterMap('rigid')\n",
    "parameter_map_rigid['Registration'] = [\n",
    "    'MultiMetricMultiResolutionRegistration']\n",
    "original_metric = parameter_map_rigid['Metric']\n",
    "parameter_map_rigid['Metric'] = [original_metric[0],\n",
    "                                 'CorrespondingPointsEuclideanDistanceMetric']\n",
    "parameter_object.AddParameterMap(parameter_map_rigid)"
   ]
  },
  {
   "cell_type": "code",
   "execution_count": 31,
   "metadata": {},
   "outputs": [
    {
     "data": {
      "text/plain": [
       "array([[-3.6351e+01, -3.6974e+01, -1.2045e+03],\n",
       "       [-6.5037e+01,  2.1764e+01, -1.3445e+03],\n",
       "       [-9.3723e+01, -4.5170e+01, -1.2795e+03],\n",
       "       [-3.9083e+01, -9.4346e+01, -1.2395e+03],\n",
       "       [-7.3233e+01, -1.4580e+00, -1.1945e+03],\n",
       "       [-4.3181e+01, -1.5118e+01, -1.3045e+03],\n",
       "       [-3.4985e+01, -2.8240e+00, -1.1895e+03],\n",
       "       [-5.9573e+01, -6.0196e+01, -1.2995e+03],\n",
       "       [-6.2305e+01, -2.7412e+01, -1.1895e+03],\n",
       "       [-7.0501e+01, -1.7850e+01, -1.3145e+03],\n",
       "       [-7.1867e+01, -7.5222e+01, -1.2195e+03],\n",
       "       [-5.2743e+01,  2.0398e+01, -1.2545e+03],\n",
       "       [-5.9573e+01, -9.2000e-02, -1.2995e+03],\n",
       "       [-4.5913e+01, -1.9216e+01, -1.2245e+03],\n",
       "       [-5.4109e+01, -3.8340e+01, -1.2795e+03],\n",
       "       [-7.3233e+01, -4.6536e+01, -1.2745e+03],\n",
       "       [-5.1377e+01, -5.3366e+01, -1.2095e+03],\n",
       "       [-8.8259e+01, -2.3314e+01, -1.2345e+03],\n",
       "       [-4.5913e+01,  1.0836e+01, -1.3445e+03],\n",
       "       [-1.9959e+01, -1.6484e+01, -1.1645e+03],\n",
       "       [-2.8155e+01, -2.7412e+01, -1.3295e+03],\n",
       "       [-5.4109e+01, -3.2876e+01, -1.2245e+03],\n",
       "       [-5.8207e+01, -1.2386e+01, -1.2245e+03],\n",
       "       [-4.3181e+01,  2.6400e+00, -1.2295e+03],\n",
       "       [-8.5527e+01, -2.8778e+01, -1.3245e+03],\n",
       "       [-7.5965e+01, -6.9220e+00, -1.2395e+03],\n",
       "       [-4.8645e+01, -5.0634e+01, -1.2895e+03],\n",
       "       [-6.2305e+01, -3.5608e+01, -1.3295e+03],\n",
       "       [-4.4547e+01, -8.2880e+00, -1.2595e+03],\n",
       "       [-4.7279e+01, -3.8340e+01, -1.1745e+03],\n",
       "       [-3.3619e+01, -2.0582e+01, -1.2695e+03],\n",
       "       [-3.7717e+01, -2.0582e+01, -1.1845e+03],\n",
       "       [-6.7769e+01, -1.6484e+01, -1.1645e+03],\n",
       "       [-4.4547e+01, -2.8778e+01, -1.3145e+03],\n",
       "       [-6.7769e+01, -8.0686e+01, -1.2695e+03],\n",
       "       [-5.9573e+01, -6.9758e+01, -1.2395e+03],\n",
       "       [-5.0011e+01,  5.3720e+00, -1.1595e+03],\n",
       "       [-4.7279e+01, -9.6540e+00, -1.1545e+03],\n",
       "       [-7.3233e+01, -6.0196e+01, -1.2995e+03],\n",
       "       [-5.8207e+01, -3.2876e+01, -1.2045e+03],\n",
       "       [-5.9573e+01, -6.9220e+00, -1.2895e+03],\n",
       "       [-4.3181e+01, -2.3314e+01, -1.2995e+03],\n",
       "       [-4.0449e+01, -5.6098e+01, -1.1995e+03],\n",
       "       [-5.0011e+01, -2.7412e+01, -1.2245e+03],\n",
       "       [-5.6841e+01, -2.6046e+01, -1.2295e+03],\n",
       "       [-5.2743e+01, -2.0582e+01, -1.2195e+03],\n",
       "       [-5.2743e+01,  1.2740e+00, -1.3145e+03],\n",
       "       [-3.6351e+01, -2.4680e+01, -1.2995e+03],\n",
       "       [-4.7279e+01, -9.6540e+00, -1.3195e+03],\n",
       "       [-6.3671e+01, -4.7902e+01, -1.2795e+03],\n",
       "       [-4.0449e+01, -3.2876e+01, -1.1895e+03]])"
      ]
     },
     "execution_count": 31,
     "metadata": {},
     "output_type": "execute_result"
    }
   ],
   "source": [
    "fixed_point_set"
   ]
  },
  {
   "cell_type": "code",
   "execution_count": 28,
   "metadata": {},
   "outputs": [],
   "source": [
    "\n",
    "def createPointSetITK(point_set):\n",
    "    PixelType = itk.F\n",
    "    Dimension = 3\n",
    "\n",
    "    PointSetType = itk.Mesh[PixelType, Dimension]\n",
    "    PointSet = PointSetType.New()\n",
    "\n",
    "    points = PointSet.GetPoints()\n",
    "    i = 0\n",
    "    # Create points\n",
    "    for a,b,c in point_set:        \n",
    "        p = itk.Point[PixelType, Dimension]()\n",
    "        p[0] = a\n",
    "        p[1] = b\n",
    "        p[2] = c\n",
    "        points.InsertElement(i, p)\n",
    "        i += 1\n",
    "    \n",
    "    return PointSet\n",
    "\n",
    "itk_fixed_point_set = createPointSetITK(fixed_point_set)\n"
   ]
  },
  {
   "cell_type": "code",
   "execution_count": 27,
   "metadata": {},
   "outputs": [
    {
     "ename": "RuntimeError",
     "evalue": "No MeshIO is registered to handle the given file.",
     "output_type": "error",
     "traceback": [
      "\u001b[1;31m---------------------------------------------------------------------------\u001b[0m",
      "\u001b[1;31mRuntimeError\u001b[0m                              Traceback (most recent call last)",
      "\u001b[1;32m<ipython-input-27-e950f13f9511>\u001b[0m in \u001b[0;36m<module>\u001b[1;34m\u001b[0m\n\u001b[1;32m----> 1\u001b[1;33m \u001b[0mitk_fixed_mesh\u001b[0m \u001b[1;33m=\u001b[0m \u001b[0mitk\u001b[0m\u001b[1;33m.\u001b[0m\u001b[0mmeshread\u001b[0m\u001b[1;33m(\u001b[0m\u001b[1;34m'data/CT_3D_lung_fixed_point_set_corrected.txt'\u001b[0m\u001b[1;33m,\u001b[0m \u001b[0mitk\u001b[0m\u001b[1;33m.\u001b[0m\u001b[0mF\u001b[0m\u001b[1;33m)\u001b[0m\u001b[1;33m\u001b[0m\u001b[1;33m\u001b[0m\u001b[0m\n\u001b[0m",
      "\u001b[1;32m~\\.conda\\envs\\ElastixEnv\\lib\\site-packages\\itkExtras.py\u001b[0m in \u001b[0;36mmeshread\u001b[1;34m(filename, pixel_type, fallback_only)\u001b[0m\n\u001b[0;32m    695\u001b[0m         \u001b[0mmeshIO\u001b[0m \u001b[1;33m=\u001b[0m \u001b[0mitk\u001b[0m\u001b[1;33m.\u001b[0m\u001b[0mMeshIOFactory\u001b[0m\u001b[1;33m.\u001b[0m\u001b[0mCreateMeshIO\u001b[0m\u001b[1;33m(\u001b[0m\u001b[0mio_filename\u001b[0m\u001b[1;33m,\u001b[0m \u001b[0mitk\u001b[0m\u001b[1;33m.\u001b[0m\u001b[0mCommonEnums\u001b[0m\u001b[1;33m.\u001b[0m\u001b[0mIOFileMode_ReadMode\u001b[0m\u001b[1;33m)\u001b[0m\u001b[1;33m\u001b[0m\u001b[1;33m\u001b[0m\u001b[0m\n\u001b[0;32m    696\u001b[0m         \u001b[1;32mif\u001b[0m \u001b[1;32mnot\u001b[0m \u001b[0mmeshIO\u001b[0m\u001b[1;33m:\u001b[0m\u001b[1;33m\u001b[0m\u001b[1;33m\u001b[0m\u001b[0m\n\u001b[1;32m--> 697\u001b[1;33m             \u001b[1;32mraise\u001b[0m \u001b[0mRuntimeError\u001b[0m\u001b[1;33m(\u001b[0m\u001b[1;34m\"No MeshIO is registered to handle the given file.\"\u001b[0m\u001b[1;33m)\u001b[0m\u001b[1;33m\u001b[0m\u001b[1;33m\u001b[0m\u001b[0m\n\u001b[0m\u001b[0;32m    698\u001b[0m         \u001b[0mmeshIO\u001b[0m\u001b[1;33m.\u001b[0m\u001b[0mSetFileName\u001b[0m\u001b[1;33m(\u001b[0m\u001b[0mio_filename\u001b[0m\u001b[1;33m)\u001b[0m\u001b[1;33m\u001b[0m\u001b[1;33m\u001b[0m\u001b[0m\n\u001b[0;32m    699\u001b[0m         \u001b[0mmeshIO\u001b[0m\u001b[1;33m.\u001b[0m\u001b[0mReadMeshInformation\u001b[0m\u001b[1;33m(\u001b[0m\u001b[1;33m)\u001b[0m\u001b[1;33m\u001b[0m\u001b[1;33m\u001b[0m\u001b[0m\n",
      "\u001b[1;31mRuntimeError\u001b[0m: No MeshIO is registered to handle the given file."
     ]
    }
   ],
   "source": [
    "itk_fixed_mesh = itk.meshread('data/CT_3D_lung_fixed_point_set_corrected.txt', itk.F)"
   ]
  },
  {
   "cell_type": "code",
   "execution_count": 32,
   "metadata": {},
   "outputs": [],
   "source": [
    "itk.meshwrite(itk_fixed_point_set, 'outputpointset.vtk')"
   ]
  },
  {
   "cell_type": "code",
   "execution_count": 18,
   "metadata": {},
   "outputs": [
    {
     "name": "stdout",
     "output_type": "stream",
     "text": [
      "PointSet (000001D9D1E98450)\n",
      "  RTTI typeinfo:   class itk::PointSet<float,3,class itk::DefaultStaticMeshTraits<float,3,3,float,float,float> >\n",
      "  Reference Count: 1\n",
      "  Modified Time: 237\n",
      "  Debug: Off\n",
      "  Object Name: \n",
      "  Observers: \n",
      "    none\n",
      "  Source: (none)\n",
      "  Source output name: (none)\n",
      "  Release Data: Off\n",
      "  Data Released: False\n",
      "  Global Release Data: Off\n",
      "  PipelineMTime: 0\n",
      "  UpdateMTime: 0\n",
      "  RealTimeStamp: 0 seconds \n",
      "  Number Of Points: 51\n",
      "  Requested Number Of Regions: 0\n",
      "  Requested Region: -1\n",
      "  Buffered Region: -1\n",
      "  Maximum Number Of Regions: 1\n",
      "  Point Data Container pointer: 0000000000000000\n",
      "  Size of Point Data Container: 0\n",
      "\n"
     ]
    }
   ],
   "source": [
    "print(itk_fixed_point_set)"
   ]
  },
  {
   "cell_type": "markdown",
   "metadata": {},
   "source": [
    "The point sets can be visualized and analysed with the itkwidgets package. Currently the point set visualization layer is put on top of the 3D image, which makes the slice view show all 'passed' points as well, this will change in future versions of the itkwidgets. (Changing the point set size and the gradient opacity of the image aids the visualization of the point sets in the 3D image)"
   ]
  },
  {
   "cell_type": "code",
   "execution_count": 4,
   "metadata": {},
   "outputs": [
    {
     "data": {
      "application/vnd.jupyter.widget-view+json": {
       "model_id": "4b85bb6d559348c5affec2dcdfcf6a3b",
       "version_major": 2,
       "version_minor": 0
      },
      "text/plain": [
       "Viewer(geometries=[], gradient_opacity=0.22, point_set_colors=array([[0.8392157, 0.       , 0.       ]], dtype…"
      ]
     },
     "metadata": {},
     "output_type": "display_data"
    }
   ],
   "source": [
    "view(fixed_image, point_sets=[fixed_point_set])"
   ]
  },
  {
   "cell_type": "code",
   "execution_count": 5,
   "metadata": {},
   "outputs": [
    {
     "data": {
      "application/vnd.jupyter.widget-view+json": {
       "model_id": "bf24816ea3ec41b693d371fee1841a63",
       "version_major": 2,
       "version_minor": 0
      },
      "text/plain": [
       "Viewer(geometries=[], gradient_opacity=0.22, point_set_colors=array([[0.8392157, 0.       , 0.       ]], dtype…"
      ]
     },
     "metadata": {},
     "output_type": "display_data"
    }
   ],
   "source": [
    "view(moving_image, point_sets=[moving_point_set])"
   ]
  },
  {
   "cell_type": "markdown",
   "metadata": {},
   "source": [
    "With regards to the elastix function, the point sets do not need to be initialized first, so their file name + path can be given directly to elastix. Future version of ITKElastix will support initialization of point sets and passing these to elastix, just like the point set was initialized for the visualization with the itkwidgets.\n",
    "\n",
    "Registration can either be done in one line with the registration function..."
   ]
  },
  {
   "cell_type": "code",
   "execution_count": 128,
   "metadata": {},
   "outputs": [],
   "source": [
    "# Call registration function\n",
    "result_image, result_transform_parameters = itk.elastix_registration_method(\n",
    "    fixed_image, moving_image,\n",
    "    fixed_point_set_file_name='data/CT_3D_lung_fixed_point_set_corrected.txt',\n",
    "    moving_point_set_file_name='data/CT_3D_lung_moving_point_set_corrected.txt',\n",
    "    log_to_console=False,\n",
    "    parameter_object=parameter_object)"
   ]
  },
  {
   "cell_type": "markdown",
   "metadata": {},
   "source": [
    ".. or by initiating an elastix image filter object."
   ]
  },
  {
   "cell_type": "code",
   "execution_count": 111,
   "metadata": {},
   "outputs": [],
   "source": [
    "# Load Elastix Image Filter Object\n",
    "# Fixed and moving image should be given to the Elastix method to ensure that\n",
    "# the correct 3D class is initialized.\n",
    "elastix_object = itk.ElastixRegistrationMethod.New(fixed_image,moving_image)\n",
    "elastix_object.SetFixedPointSetFileName('data/CT_3D_lung_fixed_point_set_corrected.txt')\n",
    "elastix_object.SetMovingPointSetFileName(\n",
    "    'data/CT_3D_lung_moving_point_set_corrected.txt')\n",
    "elastix_object.SetParameterObject(parameter_object)\n",
    "elastix_object.SetLogToConsole(False)\n",
    "\n",
    "# Update filter object (required)\n",
    "elastix_object.UpdateLargestPossibleRegion()\n",
    "\n",
    "# Results of Registration\n",
    "result_image = elastix_object.GetOutput()\n",
    "result_transform_parameters = elastix_object.GetTransformParameterObject()"
   ]
  }
 ],
 "metadata": {
  "kernelspec": {
   "display_name": "ElastixEnv",
   "language": "python",
   "name": "elastixenv"
  },
  "language_info": {
   "codemirror_mode": {
    "name": "ipython",
    "version": 3
   },
   "file_extension": ".py",
   "mimetype": "text/x-python",
   "name": "python",
   "nbconvert_exporter": "python",
   "pygments_lexer": "ipython3",
   "version": "3.8.5"
  }
 },
 "nbformat": 4,
 "nbformat_minor": 4
}
